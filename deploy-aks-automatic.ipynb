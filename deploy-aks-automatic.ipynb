{
 "cells": [
  {
   "cell_type": "markdown",
   "id": "54acd27e",
   "metadata": {},
   "source": [
    "# AKS Automatic + MCP Weather Server Deployment Walkthrough\n",
    "\n",
    "This notebook orchestrates deployment of the AKS Automatic infrastructure (defined in [`main.bicep`](main.bicep)) and publishes the MCP Weather Server (located in [`mcp-weather-server/src/index.ts`](mcp-weather-server/src/index.ts)) to the cluster."
   ]
  },
  {
   "cell_type": "markdown",
   "id": "cf409755",
   "metadata": {},
   "source": [
    "## Prerequisites\n",
    "- Azure CLI authenticated: `az login`\n",
    "- Docker daemon running, logged into your Azure Container Registry (ACR)\n",
    "- Bicep CLI installed (comes with Azure CLI 2.50+)\n",
    "- Kubernetes CLI (`kubectl`) installed\n",
    "- Notebook kernel with network and shell access (e.g., Azure ML compute, local dev machine)"
   ]
  },
  {
   "cell_type": "code",
   "execution_count": null,
   "id": "7607ca00",
   "metadata": {},
   "outputs": [],
   "source": [
    "import json\n",
    "import pathlib\n",
    "import subprocess\n",
    "import tempfile\n",
    "\n",
    "# --- Configuration ---\n",
    "RESOURCE_GROUP = \"rg-aks-automatic\"\n",
    "LOCATION = \"eastus\"\n",
    "DEPLOYMENT_NAME = \"aks-automatic\"\n",
    "TEMPLATE_FILE = \"main.bicep\"\n",
    "PARAM_FILE = \"main.bicepparam\"\n",
    "ACR_NAME = \"<your-registry>\"  # e.g. myregistry\n",
    "AKS_CLUSTER_NAME_OVERRIDE = None  # Optional manual override if you set a different clusterName in parameters\n",
    "IMAGE_NAME = f\"{ACR_NAME}.azurecr.io/mcp-weather-server:latest\"\n",
    "PROJECT_ROOT = pathlib.Path.cwd()\n",
    "\n",
    "print(f\"Resource group: {RESOURCE_GROUP}\")\n",
    "print(f\"Deployment name: {DEPLOYMENT_NAME}\")\n",
    "print(f\"ACR: {ACR_NAME}\")\n",
    "print(f\"Image: {IMAGE_NAME}\")"
   ]
  },
  {
   "cell_type": "code",
   "execution_count": null,
   "id": "e0416b9f",
   "metadata": {},
   "outputs": [],
   "source": [
    "# Step 1: Ensure the resource group exists\n",
    "subprocess.run([\"az\", \"group\", \"create\",\n",
    "                \"--name\", RESOURCE_GROUP,\n",
    "                \"--location\", LOCATION,\n",
    "                \"--output\", \"none\"], check=True)\n",
    "print(\"Resource group ready.\")"
   ]
  },
  {
   "cell_type": "code",
   "execution_count": null,
   "id": "4b268c1f",
   "metadata": {},
   "outputs": [],
   "source": [
    "# Step 2: Deploy AKS Automatic using Bicep\n",
    "deploy = subprocess.run([\"az\", \"deployment\", \"group\", \"create\",\n",
    "                           \"--name\", DEPLOYMENT_NAME,\n",
    "                           \"--resource-group\", RESOURCE_GROUP,\n",
    "                           \"--template-file\", TEMPLATE_FILE,\n",
    "                           \"--parameters\", f\"@{PARAM_FILE}\",\n",
    "                           \"--output\", \"json\"],\n",
    "                          check=True, capture_output=True, text=True)\n",
    "deployment_result = json.loads(deploy.stdout)\n",
    "deployment_outputs = deployment_result.get(\"properties\", {}).get(\"outputs\", {})\n",
    "print(json.dumps(deployment_outputs, indent=2))"
   ]
  },
  {
   "cell_type": "code",
   "execution_count": null,
   "id": "6362342c",
   "metadata": {},
   "outputs": [],
   "source": [
    "# Step 3: Capture key outputs for later steps\n",
    "cluster_name = AKS_CLUSTER_NAME_OVERRIDE or deployment_outputs.get(\"clusterName\", {}).get(\"value\")\n",
    "workspace_id = deployment_outputs.get(\"workspaceId\", {}).get(\"value\")\n",
    "print(f\"Cluster name: {cluster_name}\")\n",
    "print(f\"Log Analytics workspace: {workspace_id}\")\n",
    "if not cluster_name:\n",
    "    raise ValueError(\"clusterName output missing; check your deployment parameters and outputs.\")"
   ]
  },
  {
   "cell_type": "code",
   "execution_count": null,
   "id": "d603a3a5",
   "metadata": {},
   "outputs": [],
   "source": [
    "# Step 4: Attach ACR permissions to the AKS cluster\n",
    "subprocess.run([\"az\", \"aks\", \"update\",\n",
    "                \"--resource-group\", RESOURCE_GROUP,\n",
    "                \"--name\", cluster_name,\n",
    "                \"--attach-acr\", ACR_NAME], check=True)\n",
    "print(\"AKS cluster now has pull permissions for the ACR.\")"
   ]
  },
  {
   "cell_type": "code",
   "execution_count": null,
   "id": "90f64826",
   "metadata": {},
   "outputs": [],
   "source": [
    "# Step 5: Merge AKS credentials into local kubeconfig\n",
    "subprocess.run([\"az\", \"aks\", \"get-credentials\",\n",
    "                \"--resource-group\", RESOURCE_GROUP,\n",
    "                \"--name\", cluster_name,\n",
    "                \"--overwrite-existing\"], check=True)\n",
    "print(f\"Kubeconfig updated for {cluster_name}.\")"
   ]
  },
  {
   "cell_type": "code",
   "execution_count": null,
   "id": "35d634d8",
   "metadata": {},
   "outputs": [],
   "source": [
    "# Step 6: Build and push MCP Weather Server image\n",
    "server_dir = PROJECT_ROOT / \"mcp-weather-server\"\n",
    "subprocess.run([\"npm\", \"install\"], cwd=server_dir, check=True)\n",
    "subprocess.run([\"npm\", \"run\", \"build\"], cwd=server_dir, check=True)\n",
    "subprocess.run([\"docker\", \"build\", \"-t\", IMAGE_NAME, \".\"], cwd=server_dir, check=True)\n",
    "subprocess.run([\"az\", \"acr\", \"login\", \"--name\", ACR_NAME], check=True)\n",
    "subprocess.run([\"docker\", \"push\", IMAGE_NAME], check=True)\n",
    "print(\"Container image pushed to ACR.\")"
   ]
  },
  {
   "cell_type": "code",
   "execution_count": null,
   "id": "9a2a5c5d",
   "metadata": {},
   "outputs": [],
   "source": [
    "# Step 7: Deploy MCP Weather Server workload to AKS\n",
    "manifest_path = PROJECT_ROOT / \"k8s\" / \"mcp-weather.yaml\"\n",
    "manifest_text = manifest_path.read_text()\n",
    "patched_manifest = manifest_text.replace(\"<your-registry>.azurecr.io/mcp-weather-server:latest\", IMAGE_NAME)\n",
    "with tempfile.NamedTemporaryFile('w', suffix='.yaml', delete=False) as temp_manifest:\n",
    "    temp_manifest.write(patched_manifest)\n",
    "    rendered_manifest_path = temp_manifest.name\n",
    "subprocess.run([\"kubectl\", \"apply\", \"-f\", rendered_manifest_path], check=True)\n",
    "print(\"MCP Weather Server manifest applied.\")"
   ]
  },
  {
   "cell_type": "code",
   "execution_count": null,
   "id": "8b779f1f",
   "metadata": {},
   "outputs": [],
   "source": [
    "# Step 8: Verify rollout\n",
    "subprocess.run([\"kubectl\", \"get\", \"pods\", \"-l\", \"app=mcp-weather-server\"], check=True)\n",
    "subprocess.run([\"kubectl\", \"logs\", \"deploy/mcp-weather-server\"], check=False)\n",
    "print(\"Review pod status and logs above.\")"
   ]
  },
  {
   "cell_type": "markdown",
   "id": "fa7c6677",
   "metadata": {},
   "source": [
    "## Next steps\n",
    "- Attach your MCP-compatible Agent to the running pod (sidecar or exec).\n",
    "- Configure RBAC/networking as needed for production environments.\n",
    "- Extend the notebook with teardown steps (`kubectl delete`, `az group delete`) when you're ready to clean up."
   ]
  }
 ],
 "metadata": {
  "language_info": {
   "name": "python"
  }
 },
 "nbformat": 4,
 "nbformat_minor": 5
}
